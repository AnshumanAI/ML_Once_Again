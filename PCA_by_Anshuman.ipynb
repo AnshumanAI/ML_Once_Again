{
  "nbformat": 4,
  "nbformat_minor": 0,
  "metadata": {
    "colab": {
      "provenance": [],
      "authorship_tag": "ABX9TyP4dCF1HwRRItxMKRnlFG2M",
      "include_colab_link": true
    },
    "kernelspec": {
      "name": "python3",
      "display_name": "Python 3"
    },
    "language_info": {
      "name": "python"
    }
  },
  "cells": [
    {
      "cell_type": "markdown",
      "metadata": {
        "id": "view-in-github",
        "colab_type": "text"
      },
      "source": [
        "<a href=\"https://colab.research.google.com/github/AnshumanAI/ML_Once_Again/blob/main/PCA_by_Anshuman.ipynb\" target=\"_parent\"><img src=\"https://colab.research.google.com/assets/colab-badge.svg\" alt=\"Open In Colab\"/></a>"
      ]
    },
    {
      "cell_type": "code",
      "execution_count": null,
      "metadata": {
        "id": "-BypH9KUb_R6"
      },
      "outputs": [],
      "source": [
        "import numpy as np\n",
        "import matplotlib.pyplot as plt\n",
        "\n",
        "\n",
        "from sklearn import decomposition"
      ]
    },
    {
      "cell_type": "code",
      "source": [
        "from sklearn.datasets import load_iris\n",
        "\n",
        "Iris= load_iris()\n",
        "X= Iris [\"data\"]\n",
        "y= Iris[\"target\"]\n",
        "print (X.shape)"
      ],
      "metadata": {
        "colab": {
          "base_uri": "https://localhost:8080/"
        },
        "id": "W72o5bpVQuK0",
        "outputId": "8b409938-922a-443c-baa1-765bf1e2908c"
      },
      "execution_count": null,
      "outputs": [
        {
          "output_type": "stream",
          "name": "stdout",
          "text": [
            "(150, 4)\n"
          ]
        }
      ]
    },
    {
      "cell_type": "code",
      "source": [
        "from sklearn.neighbors import KNeighborsClassifier\n",
        "from sklearn.model_selection import train_test_split\n",
        "from sklearn.metrics import accuracy_score\n",
        "x_train,x_test, y_train, y_test=train_test_split(X,y,test_size=0.2)\n",
        "KNN=KNeighborsClassifier()\n",
        "KNN.fit(x_train,y_train)\n",
        "Yhat=KNN.predict(x_test)\n",
        "print (\"accuracy score is\",accuracy_score(Yhat,y_test))"
      ],
      "metadata": {
        "colab": {
          "base_uri": "https://localhost:8080/"
        },
        "id": "Tq7zaKvRaZEx",
        "outputId": "ee5a7f84-a7c9-48a6-f0f1-c23a321aa3fb"
      },
      "execution_count": null,
      "outputs": [
        {
          "output_type": "stream",
          "name": "stdout",
          "text": [
            "accuracy score is 1.0\n"
          ]
        }
      ]
    },
    {
      "cell_type": "code",
      "source": [
        "pca = decomposition.PCA(n_components=3)\n",
        "pca.fit(X)\n",
        "X = pca.transform(X)\n",
        "print (X.shape)"
      ],
      "metadata": {
        "colab": {
          "base_uri": "https://localhost:8080/"
        },
        "id": "XoDaQAFbScp1",
        "outputId": "05f7512e-28d9-4c17-d97c-b1fcd42dbb67"
      },
      "execution_count": null,
      "outputs": [
        {
          "output_type": "stream",
          "name": "stdout",
          "text": [
            "(150, 3)\n"
          ]
        }
      ]
    },
    {
      "cell_type": "code",
      "source": [
        "x_train,x_test, y_train, y_test=train_test_split(X,y,test_size=0.2)\n",
        "KNN2=KNeighborsClassifier()\n",
        "KNN2.fit(x_train,y_train)\n",
        "KNN2.predict(x_test)\n",
        "Yhat2=KNN2.predict(x_test)\n",
        "print (\"accuracy score is\",accuracy_score(Yhat2,y_test))"
      ],
      "metadata": {
        "colab": {
          "base_uri": "https://localhost:8080/"
        },
        "id": "GTNmdAgqTHaQ",
        "outputId": "1545d11f-5a32-4492-948e-0c3b891f0222"
      },
      "execution_count": null,
      "outputs": [
        {
          "output_type": "stream",
          "name": "stdout",
          "text": [
            "accuracy score is 0.9333333333333333\n"
          ]
        }
      ]
    },
    {
      "cell_type": "code",
      "source": [
        "#changing dataset, ytest too?"
      ],
      "metadata": {
        "id": "gVEyk92cTIDd"
      },
      "execution_count": null,
      "outputs": []
    },
    {
      "cell_type": "code",
      "source": [
        "#accuracy reduced? ,say waut"
      ],
      "metadata": {
        "id": "q6GSJf17xU_k"
      },
      "execution_count": null,
      "outputs": []
    }
  ]
}