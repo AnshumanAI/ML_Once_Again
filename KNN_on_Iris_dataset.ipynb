{
  "nbformat": 4,
  "nbformat_minor": 0,
  "metadata": {
    "colab": {
      "provenance": [],
      "authorship_tag": "ABX9TyP1+MbiFqHB1VnSdBl87C/g",
      "include_colab_link": true
    },
    "kernelspec": {
      "name": "python3",
      "display_name": "Python 3"
    },
    "language_info": {
      "name": "python"
    }
  },
  "cells": [
    {
      "cell_type": "markdown",
      "metadata": {
        "id": "view-in-github",
        "colab_type": "text"
      },
      "source": [
        "<a href=\"https://colab.research.google.com/github/AnshumanAI/ML_Once_Again/blob/main/KNN_on_Iris_dataset.ipynb\" target=\"_parent\"><img src=\"https://colab.research.google.com/assets/colab-badge.svg\" alt=\"Open In Colab\"/></a>"
      ]
    },
    {
      "cell_type": "code",
      "source": [
        "#On Iris dataset"
      ],
      "metadata": {
        "id": "8T_nQUmOknzU"
      },
      "execution_count": null,
      "outputs": []
    },
    {
      "cell_type": "code",
      "source": [
        "import pandas as pd\n",
        "import numpy as np\n",
        "import matplotlib.pyplot as plt\n",
        "import seaborn as sns\n",
        "import warnings\n",
        "warnings.filterwarnings('ignore')"
      ],
      "metadata": {
        "id": "2rLGdtkVo5Xv"
      },
      "execution_count": null,
      "outputs": []
    },
    {
      "cell_type": "code",
      "source": [
        "from sklearn import datasets"
      ],
      "metadata": {
        "id": "DLbXX9_QmgtJ"
      },
      "execution_count": null,
      "outputs": []
    },
    {
      "cell_type": "code",
      "source": [
        "Iris=datasets.load_iris()\n",
        "X = Iris.data[:, :3]\n",
        "y = Iris.target"
      ],
      "metadata": {
        "id": "BMPVI8M7mhCP"
      },
      "execution_count": null,
      "outputs": []
    },
    {
      "cell_type": "code",
      "source": [
        "from sklearn.model_selection import train_test_split\n",
        "x_train,x_test, y_train, y_test=train_test_split(X,y,test_size=0.2)"
      ],
      "metadata": {
        "id": "kP2qkkQon7mw"
      },
      "execution_count": null,
      "outputs": []
    },
    {
      "cell_type": "code",
      "source": [
        "from sklearn.metrics import classification_report, confusion_matrix\n",
        "\n",
        "from sklearn.metrics import accuracy_score"
      ],
      "metadata": {
        "id": "IUhY5JuGoeCy"
      },
      "execution_count": null,
      "outputs": []
    },
    {
      "cell_type": "code",
      "source": [
        "from sklearn.neighbors import KNeighborsClassifier\n",
        "for I in range(1,11):\n",
        "    KNN=KNeighborsClassifier(n_neighbors=I)\n",
        "    KNN.fit(x_train,y_train)\n",
        "    Prediction=KNN.predict(x_test)\n",
        "    print(\"accuracy for k=\",I,\"is\",accuracy_score(y_test,Prediction))\n",
        "    print(\"confusion matrix::\\n\",confusion_matrix(y_test, Prediction))"
      ],
      "metadata": {
        "colab": {
          "base_uri": "https://localhost:8080/"
        },
        "id": "KACzYKRKJPQU",
        "outputId": "837fd48e-fb8c-4871-de7c-96b7f051e069"
      },
      "execution_count": null,
      "outputs": [
        {
          "output_type": "stream",
          "name": "stdout",
          "text": [
            "accuracy for k= 1 is 0.8333333333333334\n",
            "confusion matrix::\n",
            " [[11  0  0]\n",
            " [ 0  5  1]\n",
            " [ 0  4  9]]\n",
            "accuracy for k= 2 is 0.8\n",
            "confusion matrix::\n",
            " [[11  0  0]\n",
            " [ 0  5  1]\n",
            " [ 0  5  8]]\n",
            "accuracy for k= 3 is 0.8666666666666667\n",
            "confusion matrix::\n",
            " [[11  0  0]\n",
            " [ 0  5  1]\n",
            " [ 0  3 10]]\n",
            "accuracy for k= 4 is 0.8333333333333334\n",
            "confusion matrix::\n",
            " [[11  0  0]\n",
            " [ 0  5  1]\n",
            " [ 0  4  9]]\n",
            "accuracy for k= 5 is 0.8333333333333334\n",
            "confusion matrix::\n",
            " [[11  0  0]\n",
            " [ 0  5  1]\n",
            " [ 0  4  9]]\n",
            "accuracy for k= 6 is 0.8333333333333334\n",
            "confusion matrix::\n",
            " [[11  0  0]\n",
            " [ 0  5  1]\n",
            " [ 0  4  9]]\n",
            "accuracy for k= 7 is 0.9\n",
            "confusion matrix::\n",
            " [[11  0  0]\n",
            " [ 0  5  1]\n",
            " [ 0  2 11]]\n",
            "accuracy for k= 8 is 0.8333333333333334\n",
            "confusion matrix::\n",
            " [[11  0  0]\n",
            " [ 0  5  1]\n",
            " [ 0  4  9]]\n",
            "accuracy for k= 9 is 0.8666666666666667\n",
            "confusion matrix::\n",
            " [[11  0  0]\n",
            " [ 0  5  1]\n",
            " [ 0  3 10]]\n",
            "accuracy for k= 10 is 0.8333333333333334\n",
            "confusion matrix::\n",
            " [[11  0  0]\n",
            " [ 0  5  1]\n",
            " [ 0  4  9]]\n"
          ]
        }
      ]
    },
    {
      "cell_type": "code",
      "source": [
        "#optimal value of k is k=7"
      ],
      "metadata": {
        "id": "CHB_D8umPknq"
      },
      "execution_count": null,
      "outputs": []
    },
    {
      "cell_type": "code",
      "source": [
        "#https://colab.research.google.com/drive/1u6uPjZ-UOhuOXcg_sTHoWPxAjlEDgphc#scrollTo=NBkjWaU3rPhN"
      ],
      "metadata": {
        "id": "NBkjWaU3rPhN"
      },
      "execution_count": null,
      "outputs": []
    }
  ]
}